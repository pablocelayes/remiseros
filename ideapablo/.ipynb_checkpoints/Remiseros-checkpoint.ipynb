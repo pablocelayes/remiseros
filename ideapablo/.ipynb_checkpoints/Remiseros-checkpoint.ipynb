{
 "metadata": {
  "name": ""
 },
 "nbformat": 3,
 "nbformat_minor": 0,
 "worksheets": [
  {
   "cells": [
    {
     "cell_type": "heading",
     "level": 1,
     "metadata": {},
     "source": [
      "Problema de asignaci\u00f3n equitativa de guardias en remiser\u00eda"
     ]
    },
    {
     "cell_type": "markdown",
     "metadata": {},
     "source": [
      "Hay que distribuir las guardias en la remiseria, \u00e9stas se hacen de a dos coches salvo los viernes y s\u00e1bados que se hacen de a tres. \n",
      "\n",
      "Ademas hay que asignar 2 coches suplentes por noche para el caso en que con los dos o tres de guardia no alcance. \n",
      "\n",
      "Recuerden que el gremio remiseril es muy vol\u00e1til y si un remisero se enoja entonces renuncia, as\u00ed que las guardias sucesivas deber\u00edan de estar alejadas as\u00ed como tambi\u00e9n la guardia deber\u00eda estar lejos de la suplencia por si a alguien le toca hacer ambas en una semana, incluso respecto a esto pueden plantear un sistema en el que si alguien hace una suplencia entonces se reacomoden las guardias sin causar revuelo. \n",
      "\n",
      "Otra cosa a tener en cuenta es que tiene que ser adaptable a cambios en la cantidad de remiseros y al menos moment\u00e1neamente deber\u00eda servir para el rango entre 15 y 25 autos, actualmente en la remisera hay 19.\n",
      "\n",
      "Y por ultimo el sistema tiene que ser remisero-friendly osea tiene que pedir los autos y hacer las guardias autom\u00e1ticamente, estar atento a los cambios en el numero de autos y ser f\u00e1cilmente demostrable que es un sistema justo para todos por que sino los remiseros se enojan y entonces... "
     ]
    },
    {
     "cell_type": "heading",
     "level": 2,
     "metadata": {},
     "source": [
      "Primeras ideas..."
     ]
    },
    {
     "cell_type": "markdown",
     "metadata": {},
     "source": [
      "Vamos a comenzar enfoc\u00e1ndonos en un sistema b\u00e1sico que asigne s\u00f3lo las guardias, para en una pr\u00f3xima etapa pensar c\u00f3mo agregar el manejo de suplencias.\n",
      "\n",
      "Adem\u00e1s de las condiciones que se explicitan en la descripci\u00f3n, tambi\u00e9n resulta conveniente que:\n",
      "\n",
      "1. el sistema se pueda presentar de forma que a todos los quede claro que es justo\n",
      "\n",
      "2. no me acuerdo, pero algo m\u00e1s hab\u00eda :P\n",
      "\n",
      "Inspir\u00e1ndome en las ideas que contaron Bruno y Roc\u00edo, se me ocurri\u00f3 hacer algo parecido pero con un poco m\u00e1s de independencia entre fin de semana y d\u00edas de semana.\n",
      "\n",
      "Empecemos por armar la lista de d\u00edas y un diccionario que nos de la cantidad de guardias para cada d\u00eda.\n",
      "\n",
      "La guardia de cada noche se va a asignar al d\u00eda que empieza, as\u00ed nos quedan s\u00e1bado y domingo con 3 guardias y lunes a viernes con dos:"
     ]
    },
    {
     "cell_type": "code",
     "collapsed": false,
     "input": [
      "dias = \"lun,mar,mie,jue,vie,sab,dom\".split(\",\")\n",
      "\n",
      "dias_de_semana = dias[:5]\n",
      "finde = dias[5:]\n",
      "\n",
      "cant_guardias = {dia: 2 for dia in dias_de_semana}\n",
      "cant_guardias.update({dia: 3 for dia in finde})\n",
      "\n",
      "for dia in dias:\n",
      "    print dia + \": \" + str(cant_guardias[dia])\n"
     ],
     "language": "python",
     "metadata": {},
     "outputs": [
      {
       "output_type": "stream",
       "stream": "stdout",
       "text": [
        "lun: 2\n",
        "mar: 2\n",
        "mie: 2\n",
        "jue: 2\n",
        "vie: 2\n",
        "sab: 3\n",
        "dom: 3\n"
       ]
      }
     ],
     "prompt_number": 4
    },
    {
     "cell_type": "markdown",
     "metadata": {},
     "source": [
      "Para fijar ideas, empecemos con un caso particular, supongamos que hay 15 remiseros:"
     ]
    },
    {
     "cell_type": "code",
     "collapsed": false,
     "input": [
      "num_remiseros = 15"
     ],
     "language": "python",
     "metadata": {},
     "outputs": [],
     "prompt_number": 8
    },
    {
     "cell_type": "markdown",
     "metadata": {},
     "source": [
      "Para ir enumerando los d\u00edas, supongamos que estamos en un mes que empieza en lunes, tendr\u00edamos las siguientes fechas:"
     ]
    },
    {
     "cell_type": "code",
     "collapsed": false,
     "input": [
      "fechas = [dias[i%7] + \" \" + str(i+1) for i in range(30)]\n",
      "fechas"
     ],
     "language": "python",
     "metadata": {},
     "outputs": [
      {
       "metadata": {},
       "output_type": "pyout",
       "prompt_number": 6,
       "text": [
        "['lun 1',\n",
        " 'mar 2',\n",
        " 'mie 3',\n",
        " 'jue 4',\n",
        " 'vie 5',\n",
        " 'sab 6',\n",
        " 'dom 7',\n",
        " 'lun 8',\n",
        " 'mar 9',\n",
        " 'mie 10',\n",
        " 'jue 11',\n",
        " 'vie 12',\n",
        " 'sab 13',\n",
        " 'dom 14',\n",
        " 'lun 15',\n",
        " 'mar 16',\n",
        " 'mie 17',\n",
        " 'jue 18',\n",
        " 'vie 19',\n",
        " 'sab 20',\n",
        " 'dom 21',\n",
        " 'lun 22',\n",
        " 'mar 23',\n",
        " 'mie 24',\n",
        " 'jue 25',\n",
        " 'vie 26',\n",
        " 'sab 27',\n",
        " 'dom 28',\n",
        " 'lun 29',\n",
        " 'mar 30']"
       ]
      }
     ],
     "prompt_number": 6
    },
    {
     "cell_type": "markdown",
     "metadata": {},
     "source": [
      "La primera idea es ir tomando c\u00edclicamente pares y asignarlos de guardia los d\u00edas de semana, por ejemplo las primeras dos semanas asignar\u00edamos los siguientes pares:"
     ]
    },
    {
     "cell_type": "code",
     "collapsed": false,
     "input": [
      "guardias = {} # un diccionario donde guardaremos para cada fecha el par de remiseros asignados\n",
      "diezdias = []\n",
      "\n",
      "for i in range(10):# dos semanas son 10 d\u00edas de semana\n",
      "    dia = fechas[(i/5)*7 + i%5] # cuentita que toma el i-\u00e9simo d\u00eda de semana\n",
      "    diezdias.append(dia) \n",
      "    guardias[dia] = ((2*i)%num_remiseros, (2*i+1)%num_remiseros)\n",
      "\n",
      "for dia in diezdias: \n",
      "    print dia + \" hacen guardia %d y %d\" % (guardias[dia])    "
     ],
     "language": "python",
     "metadata": {},
     "outputs": [
      {
       "output_type": "stream",
       "stream": "stdout",
       "text": [
        "lun 1 hacen guardia 0 y 1\n",
        "mar 2 hacen guardia 2 y 3\n",
        "mie 3 hacen guardia 4 y 5\n",
        "jue 4 hacen guardia 6 y 7\n",
        "vie 5 hacen guardia 8 y 9\n",
        "lun 8 hacen guardia 10 y 11\n",
        "mar 9 hacen guardia 12 y 13\n",
        "mie 10 hacen guardia 14 y 0\n",
        "jue 11 hacen guardia 1 y 2\n",
        "vie 12 hacen guardia 3 y 4\n"
       ]
      }
     ],
     "prompt_number": 10
    },
    {
     "cell_type": "markdown",
     "metadata": {},
     "source": [
      "Paralelemente, podr\u00edamos ir haciendo algo parecido para los fines de semana, armando ternas c\u00edclicamente.\n",
      "\n",
      "Por ejemplo, la distribuci\u00f3n sobre todos los fines de semana del mes quedar\u00eda as\u00ed:"
     ]
    },
    {
     "cell_type": "code",
     "collapsed": false,
     "input": [
      "guardiasfindes = {} \n",
      "diasfindes = []\n",
      "\n",
      "for i in range(8):# 4 findes son 8 d\u00edas\n",
      "    dia = fechas[(i/2)*7 + 5 + i%2] # cuentita que toma el i-\u00e9simo d\u00eda de finde\n",
      "    diasfindes.append(dia) \n",
      "    guardiasfindes[dia] = ((3*i)%num_remiseros, (3*i+1)%num_remiseros, (3*i+2)%num_remiseros)\n",
      "\n",
      "for dia in diasfindes: \n",
      "    print dia + \" hacen guardia %d, %d y %d\" % (guardiasfindes[dia])    "
     ],
     "language": "python",
     "metadata": {},
     "outputs": [
      {
       "output_type": "stream",
       "stream": "stdout",
       "text": [
        "sab 6 hacen guardia 0, 1 y 2\n",
        "dom 7 hacen guardia 3, 4 y 5\n",
        "sab 13 hacen guardia 6, 7 y 8\n",
        "dom 14 hacen guardia 9, 10 y 11\n",
        "sab 20 hacen guardia 12, 13 y 14\n",
        "dom 21 hacen guardia 0, 1 y 2\n",
        "sab 27 hacen guardia 3, 4 y 5\n",
        "dom 28 hacen guardia 6, 7 y 8\n"
       ]
      }
     ],
     "prompt_number": 12
    },
    {
     "cell_type": "markdown",
     "metadata": {},
     "source": [
      "Hasta ac\u00e1 todo bien, los d\u00edas de semanas son justos, los fines de semana tambi\u00e9n, la vida nos sonr\u00ede... ;)\n",
      "\n",
      "El problema surge cuando tratamos de combinar las dos distribuciones en una sola:\n",
      "\n",
      "Hay gente a la que le van a tocar guardias muy seguidas.\n"
     ]
    },
    {
     "cell_type": "code",
     "collapsed": false,
     "input": [
      "print \"escribir m\u00e1s c\u00f3digo ac\u00e1, juntando las dos distribuciones y marcando los conflictos\"\n"
     ],
     "language": "python",
     "metadata": {},
     "outputs": [
      {
       "output_type": "stream",
       "stream": "stdout",
       "text": [
        "escribir m\u00e1s c\u00f3digo ac\u00e1, juntando las dos distribuciones y marcando los conflictos\n"
       ]
      }
     ],
     "prompt_number": 1
    },
    {
     "cell_type": "markdown",
     "metadata": {},
     "source": [
      "Lo que se pueda intentar hacer es un algoritmo de mejora paso a paso, que partiendo de esta distribuci\u00f3n, vaya haciendo cambios con la condici\u00f3n de que cada cambio reduzca la cantidad de conflictos.\n",
      "\n",
      "Para ello debemos fijar qu\u00e9 entendemos por conflicto. Podr\u00edamos empezar defini\u00e9ndolo como la ocurrencia de 2 guardias con menos de 2 d\u00edas de descanso intermedio para un mismo remisero.\n",
      "\n",
      "Otra cosa a decidir es qu\u00e9 dejamos fijo y sobre qu\u00e9 optimizamos. Podr\u00edamos fijar el esquema de fines de semana y optimizar haciendo ajustes sobre el de d\u00edas de semana, o al rev\u00e9s. Me parece mejor opci\u00f3n dejar fijo el esquema de findes y variar el de d\u00edas de semana por razones matem\u00e1ticas y humanas:\n",
      "\n",
      "- Matem\u00e1ticas: creo que tenemos m\u00e1s libertad sobre los d\u00edas de semana para hacer ajustes, y el algoritmo correr\u00eda mejor.\n",
      "\n",
      "- Humanas: me parece que una de las partes que m\u00e1s claras tiene que quedar de la distribuci\u00f3n son los fines de semana, porque en general los van a querer libres para estar con la familia o tomarse unos tintos. ;) Por ende, un sistema que no haga mucho l\u00edo en el finde tiene m\u00e1s chances de ser bien recibido.\n",
      "\n",
      "\n",
      "\n"
     ]
    },
    {
     "cell_type": "code",
     "collapsed": false,
     "input": [],
     "language": "python",
     "metadata": {},
     "outputs": []
    }
   ],
   "metadata": {}
  }
 ]
}