{
 "metadata": {
  "name": ""
 },
 "nbformat": 3,
 "nbformat_minor": 0,
 "worksheets": [
  {
   "cells": [
    {
     "cell_type": "heading",
     "level": 1,
     "metadata": {},
     "source": [
      "Problema de asignaci\u00f3n equitativa de guardias en remiser\u00eda"
     ]
    },
    {
     "cell_type": "markdown",
     "metadata": {},
     "source": [
      "Hay que distribuir las guardias en la remiseria, \u00e9stas se hacen de a dos coches salvo los viernes y s\u00e1bados que se hacen de a tres. \n",
      "\n",
      "Ademas hay que asignar 2 coches suplentes por noche para el caso en que con los dos o tres de guardia no alcance. \n",
      "\n",
      "Recuerden que el gremio remiseril es muy vol\u00e1til y si un remisero se enoja entonces renuncia, as\u00ed que las guardias sucesivas deber\u00edan de estar alejadas as\u00ed como tambi\u00e9n la guardia deber\u00eda estar lejos de la suplencia por si a alguien le toca hacer ambas en una semana, incluso respecto a esto pueden plantear un sistema en el que si alguien hace una suplencia entonces se reacomoden las guardias sin causar revuelo. \n",
      "\n",
      "Otra cosa a tener en cuenta es que tiene que ser adaptable a cambios en la cantidad de remiseros y al menos moment\u00e1neamente deber\u00eda servir para el rango entre 15 y 25 autos, actualmente en la remisera hay 19.\n",
      "\n",
      "Y por ultimo el sistema tiene que ser remisero-friendly osea tiene que pedir los autos y hacer las guardias autom\u00e1ticamente, estar atento a los cambios en el numero de autos y ser f\u00e1cilmente demostrable que es un sistema justo para todos por que sino los remiseros se enojan y entonces... "
     ]
    },
    {
     "cell_type": "heading",
     "level": 2,
     "metadata": {},
     "source": [
      "Primeras ideas..."
     ]
    },
    {
     "cell_type": "markdown",
     "metadata": {},
     "source": [
      "Vamos a comenzar enfoc\u00e1ndonos en un sistema b\u00e1sico que asigne s\u00f3lo las guardias, para en una pr\u00f3xima etapa pensar c\u00f3mo agregar el manejo de suplencias.\n",
      "\n",
      "Adem\u00e1s de las condiciones que se explicitan en la descripci\u00f3n, tambi\u00e9n resulta conveniente que:\n",
      "\n",
      "1. el sistema se pueda presentar de forma que a todos los quede claro que es justo\n",
      "\n",
      "2. no me acuerdo, pero algo m\u00e1s hab\u00eda :P\n",
      "\n",
      "Inspir\u00e1ndome en las ideas que contaron Bruno y Roc\u00edo, se me ocurri\u00f3 hacer algo parecido pero con un poco m\u00e1s de independencia entre fin de semana y d\u00edas de semana.\n",
      "\n",
      "Empecemos por armar la lista de d\u00edas y un diccionario que nos de la cantidad de guardias para cada d\u00eda.\n",
      "\n",
      "La guardia de cada noche se va a asignar al d\u00eda que empieza, as\u00ed nos quedan s\u00e1bado y domingo con 3 guardias y lunes a viernes con dos:"
     ]
    },
    {
     "cell_type": "code",
     "collapsed": false,
     "input": [
      "dias = \"lun,mar,mie,jue,vie,sab,dom\".split(\",\")\n",
      "\n",
      "dias_de_semana = dias[:5]\n",
      "finde = dias[5:]\n",
      "\n",
      "cant_guardias = {dia: 2 for dia in dias_de_semana}\n",
      "cant_guardias.update({dia: 3 for dia in finde})\n",
      "\n",
      "for dia in dias:\n",
      "    print dia + \": \" + str(cant_guardias[dia])\n"
     ],
     "language": "python",
     "metadata": {},
     "outputs": [
      {
       "output_type": "stream",
       "stream": "stdout",
       "text": [
        "lun: 2\n",
        "mar: 2\n",
        "mie: 2\n",
        "jue: 2\n",
        "vie: 2\n",
        "sab: 3\n",
        "dom: 3\n"
       ]
      }
     ],
     "prompt_number": 1
    },
    {
     "cell_type": "markdown",
     "metadata": {},
     "source": [
      "Para fijar ideas, empecemos con un caso particular, supongamos que hay 15 remiseros:"
     ]
    },
    {
     "cell_type": "code",
     "collapsed": false,
     "input": [
      "num_remiseros = 15"
     ],
     "language": "python",
     "metadata": {},
     "outputs": [],
     "prompt_number": 2
    },
    {
     "cell_type": "markdown",
     "metadata": {},
     "source": [
      "Para ir enumerando los d\u00edas, supongamos que estamos en un mes que empieza en lunes, tendr\u00edamos las siguientes fechas:"
     ]
    },
    {
     "cell_type": "code",
     "collapsed": false,
     "input": [
      "fechas = [dias[i%7] + \" \" + str(i+1) for i in range(30)]\n",
      "fechas"
     ],
     "language": "python",
     "metadata": {},
     "outputs": [
      {
       "metadata": {},
       "output_type": "pyout",
       "prompt_number": 3,
       "text": [
        "['lun 1',\n",
        " 'mar 2',\n",
        " 'mie 3',\n",
        " 'jue 4',\n",
        " 'vie 5',\n",
        " 'sab 6',\n",
        " 'dom 7',\n",
        " 'lun 8',\n",
        " 'mar 9',\n",
        " 'mie 10',\n",
        " 'jue 11',\n",
        " 'vie 12',\n",
        " 'sab 13',\n",
        " 'dom 14',\n",
        " 'lun 15',\n",
        " 'mar 16',\n",
        " 'mie 17',\n",
        " 'jue 18',\n",
        " 'vie 19',\n",
        " 'sab 20',\n",
        " 'dom 21',\n",
        " 'lun 22',\n",
        " 'mar 23',\n",
        " 'mie 24',\n",
        " 'jue 25',\n",
        " 'vie 26',\n",
        " 'sab 27',\n",
        " 'dom 28',\n",
        " 'lun 29',\n",
        " 'mar 30']"
       ]
      }
     ],
     "prompt_number": 3
    },
    {
     "cell_type": "markdown",
     "metadata": {},
     "source": [
      "La primera idea es ir tomando c\u00edclicamente pares y asignarlos de guardia los d\u00edas de semana, por ejemplo las primeras dos semanas asignar\u00edamos los siguientes pares:"
     ]
    },
    {
     "cell_type": "code",
     "collapsed": false,
     "input": [
      "guardias = {} # un diccionario donde guardaremos para cada fecha el par de remiseros asignados\n",
      "diezdias = []\n",
      "\n",
      "for i in range(10):# dos semanas son 10 d\u00edas de semana\n",
      "    dia = fechas[(i/5)*7 + i%5] # cuentita que toma el i-\u00e9simo d\u00eda de semana\n",
      "    diezdias.append(dia) \n",
      "    guardias[dia] = ((2*i)%num_remiseros, (2*i+1)%num_remiseros)\n",
      "\n",
      "for dia in diezdias: \n",
      "    print dia + \" hacen guardia %d y %d\" % (guardias[dia])    "
     ],
     "language": "python",
     "metadata": {},
     "outputs": [
      {
       "output_type": "stream",
       "stream": "stdout",
       "text": [
        "lun 1 hacen guardia 0 y 1\n",
        "mar 2 hacen guardia 2 y 3\n",
        "mie 3 hacen guardia 4 y 5\n",
        "jue 4 hacen guardia 6 y 7\n",
        "vie 5 hacen guardia 8 y 9\n",
        "lun 8 hacen guardia 10 y 11\n",
        "mar 9 hacen guardia 12 y 13\n",
        "mie 10 hacen guardia 14 y 0\n",
        "jue 11 hacen guardia 1 y 2\n",
        "vie 12 hacen guardia 3 y 4\n"
       ]
      }
     ],
     "prompt_number": 4
    },
    {
     "cell_type": "markdown",
     "metadata": {},
     "source": [
      "Paralelemente, podr\u00edamos ir haciendo algo parecido para los fines de semana, armando ternas c\u00edclicamente.\n",
      "\n",
      "Por ejemplo, la distribuci\u00f3n sobre todos los fines de semana del mes quedar\u00eda as\u00ed:"
     ]
    },
    {
     "cell_type": "code",
     "collapsed": false,
     "input": [
      "guardiasfindes = {} \n",
      "diasfindes = []\n",
      "\n",
      "for i in range(8):# 4 findes son 8 d\u00edas\n",
      "    dia = fechas[(i/2)*7 + 5 + i%2] # cuentita que toma el i-\u00e9simo d\u00eda de finde\n",
      "    diasfindes.append(dia) \n",
      "    guardiasfindes[dia] = ((3*i)%num_remiseros, (3*i+1)%num_remiseros, (3*i+2)%num_remiseros)\n",
      "\n",
      "for dia in diasfindes: \n",
      "    print dia + \" hacen guardia %d, %d y %d\" % (guardiasfindes[dia])    "
     ],
     "language": "python",
     "metadata": {},
     "outputs": [
      {
       "output_type": "stream",
       "stream": "stdout",
       "text": [
        "sab 6 hacen guardia 0, 1 y 2\n",
        "dom 7 hacen guardia 3, 4 y 5\n",
        "sab 13 hacen guardia 6, 7 y 8\n",
        "dom 14 hacen guardia 9, 10 y 11\n",
        "sab 20 hacen guardia 12, 13 y 14\n",
        "dom 21 hacen guardia 0, 1 y 2\n",
        "sab 27 hacen guardia 3, 4 y 5\n",
        "dom 28 hacen guardia 6, 7 y 8\n"
       ]
      }
     ],
     "prompt_number": 5
    },
    {
     "cell_type": "markdown",
     "metadata": {},
     "source": [
      "Hasta ac\u00e1 todo bien, los d\u00edas de semanas son justos, los fines de semana tambi\u00e9n, la vida nos sonr\u00ede... ;)\n",
      "\n",
      "El problema surge cuando tratamos de combinar las dos distribuciones en una sola:"
     ]
    },
    {
     "cell_type": "code",
     "collapsed": false,
     "input": [
      "guardias = {} # un diccionario donde guardaremos para cada fecha el par de remiseros asignados\n",
      "diassemana = []\n",
      "\n",
      "for i in range(22):# hay 22 d\u00edas de semana\n",
      "    dia = fechas[(i/5)*7 + i%5] # cuentita que toma el i-\u00e9simo d\u00eda de semana\n",
      "    diassemana.append(dia) \n",
      "    guardias[dia] = ((2*i)%num_remiseros, (2*i+1)%num_remiseros)\n",
      "\n",
      "guardias.update(guardiasfindes)\n",
      "\n",
      "for dia in fechas:\n",
      "    print dia + \" hacen guardia: \" + str(guardias[dia])"
     ],
     "language": "python",
     "metadata": {},
     "outputs": [
      {
       "output_type": "stream",
       "stream": "stdout",
       "text": [
        "lun 1 hacen guardia: (0, 1)\n",
        "mar 2 hacen guardia: (2, 3)\n",
        "mie 3 hacen guardia: (4, 5)\n",
        "jue 4 hacen guardia: (6, 7)\n",
        "vie 5 hacen guardia: (8, 9)\n",
        "sab 6 hacen guardia: (0, 1, 2)\n",
        "dom 7 hacen guardia: (3, 4, 5)\n",
        "lun 8 hacen guardia: (10, 11)\n",
        "mar 9 hacen guardia: (12, 13)\n",
        "mie 10 hacen guardia: (14, 0)\n",
        "jue 11 hacen guardia: (1, 2)\n",
        "vie 12 hacen guardia: (3, 4)\n",
        "sab 13 hacen guardia: (6, 7, 8)\n",
        "dom 14 hacen guardia: (9, 10, 11)\n",
        "lun 15 hacen guardia: (5, 6)\n",
        "mar 16 hacen guardia: (7, 8)\n",
        "mie 17 hacen guardia: (9, 10)\n",
        "jue 18 hacen guardia: (11, 12)\n",
        "vie 19 hacen guardia: (13, 14)\n",
        "sab 20 hacen guardia: (12, 13, 14)\n",
        "dom 21 hacen guardia: (0, 1, 2)\n",
        "lun 22 hacen guardia: (0, 1)\n",
        "mar 23 hacen guardia: (2, 3)\n",
        "mie 24 hacen guardia: (4, 5)\n",
        "jue 25 hacen guardia: (6, 7)\n",
        "vie 26 hacen guardia: (8, 9)\n",
        "sab 27 hacen guardia: (3, 4, 5)\n",
        "dom 28 hacen guardia: (6, 7, 8)\n",
        "lun 29 hacen guardia: (10, 11)\n",
        "mar 30 hacen guardia: (12, 13)\n"
       ]
      }
     ],
     "prompt_number": 24
    },
    {
     "cell_type": "markdown",
     "metadata": {},
     "source": [
      "Hay gente a la que le van a tocar guardias muy seguidas, como por ejemplo al remisero 6 que le toca hacer guardia el s\u00e1bado 13 y ah\u00ed nom\u00e1s de nuevo el lunes 15.\n",
      "\n",
      "Lo que se puede intentar hacer es un algoritmo de mejora paso a paso, que partiendo de esta distribuci\u00f3n, vaya haciendo cambios con la condici\u00f3n de que cada cambio reduzca la cantidad de conflictos.\n",
      "\n",
      "Para ello debemos fijar qu\u00e9 entendemos por conflicto. Podr\u00edamos empezar defini\u00e9ndolo como la ocurrencia de 2 guardias con menos de 2 d\u00edas de descanso intermedio para un mismo remisero."
     ]
    },
    {
     "cell_type": "code",
     "collapsed": false,
     "input": [
      "conflictos = []\n",
      "\n",
      "for i in range(28):\n",
      "    hoy, maniana, pasado = (fechas[i + s] for s in (0, 1, 2))\n",
      "    ghoy, gmaniana, gpasado = (set(guardias[dia]) for dia in (hoy, maniana, pasado))\n",
      "    if not ghoy.isdisjoint(gmaniana):\n",
      "        conflictos.append(((hoy, ghoy), (maniana, gmaniana)))\n",
      "    if not ghoy.isdisjoint(gpasado):\n",
      "        conflictos.append(((hoy, ghoy), (pasado, gpasado)))\n",
      "\n",
      "# analizamos aparte el caso borde de los \u00faltimos dos d\u00edas\n",
      "el29, el30 = fechas[28], fechas[29]\n",
      "gel29, gel30 = (set(guardias[dia]) for dia in (el29, el30))\n",
      "if not gel29.isdisjoint(gel30):\n",
      "    conflictos.append(((el29, gel29),(el30, gel30)))\n",
      "        \n",
      "conflictos"
     ],
     "language": "python",
     "metadata": {},
     "outputs": [
      {
       "metadata": {},
       "output_type": "pyout",
       "prompt_number": 25,
       "text": [
        "[(('sab 13', {6, 7, 8}), ('lun 15', {5, 6})),\n",
        " (('jue 18', {11, 12}), ('sab 20', {12, 13, 14})),\n",
        " (('vie 19', {13, 14}), ('sab 20', {12, 13, 14})),\n",
        " (('dom 21', {0, 1, 2}), ('lun 22', {0, 1})),\n",
        " (('dom 21', {0, 1, 2}), ('mar 23', {2, 3})),\n",
        " (('vie 26', {8, 9}), ('dom 28', {6, 7, 8}))]"
       ]
      }
     ],
     "prompt_number": 25
    },
    {
     "cell_type": "markdown",
     "metadata": {},
     "source": [
      "Otra cosa a decidir es qu\u00e9 dejamos fijo y sobre qu\u00e9 optimizamos. Podr\u00edamos fijar el esquema de fines de semana y optimizar haciendo ajustes sobre el de d\u00edas de semana, o al rev\u00e9s. Me parece mejor opci\u00f3n dejar fijo el esquema de findes y variar el de d\u00edas de semana por razones matem\u00e1ticas y humanas:\n",
      "\n",
      "- Matem\u00e1ticas: creo que tenemos m\u00e1s libertad sobre los d\u00edas de semana para hacer ajustes, y el algoritmo correr\u00eda mejor.\n",
      "\n",
      "- Humanas: me parece que una de las partes que m\u00e1s claras tiene que quedar de la distribuci\u00f3n son los fines de semana, porque en general los van a querer libres para estar con la familia o tomarse unos tintos. ;) Por ende, un sistema que no haga mucho l\u00edo en el finde tiene m\u00e1s chances de ser bien recibido.\n",
      "\n",
      "Volvamos entonces a nuestra lista de conflictos y veamos c\u00f3mo podr\u00edamos arreglarla usando este criterio, o sea: qu\u00e9 cambios podemos hacer en los d\u00edas de semana que reduzcan la cantidad de conflictos."
     ]
    },
    {
     "cell_type": "code",
     "collapsed": false,
     "input": [
      "conflictos"
     ],
     "language": "python",
     "metadata": {},
     "outputs": [
      {
       "metadata": {},
       "output_type": "pyout",
       "prompt_number": 15,
       "text": [
        "[(('sab 13', {6, 7, 8}), ('lun 15', {5, 6})),\n",
        " (('jue 18', {11, 12}), ('sab 20', {12, 13, 14})),\n",
        " (('vie 19', {13, 14}), ('sab 20', {12, 13, 14})),\n",
        " (('dom 21', {0, 1, 2}), ('lun 22', {0, 1})),\n",
        " (('dom 21', {0, 1, 2}), ('mar 23', {2, 3})),\n",
        " (('vie 26', {8, 9}), ('dom 28', {6, 7, 8}))]"
       ]
      }
     ],
     "prompt_number": 15
    },
    {
     "cell_type": "markdown",
     "metadata": {},
     "source": [
      "La propuesta es que los cambios sean simplemente permutar el par de guardia un d\u00eda de semana con el de otro, preferentemente dentro de la misma semana.\n",
      "\n",
      "Por ejemplo, el primer conflicto podr\u00eda resolverse intercambiando las guardias del lunes 15 con las del viernes 19"
     ]
    },
    {
     "cell_type": "code",
     "collapsed": false,
     "input": [
      "lun15 = fechas[14]\n",
      "vie19 = fechas[18]\n",
      "temp = guardias[lun15]\n",
      "guardias[lun15] = guardias[vie19]\n",
      "guardias[vie19] = temp\n",
      "\n",
      "for dia in fechas:\n",
      "    print dia + \": \" + str(guardias[dia])"
     ],
     "language": "python",
     "metadata": {},
     "outputs": [
      {
       "output_type": "stream",
       "stream": "stdout",
       "text": [
        "lun 1: (0, 1)\n",
        "mar 2: (2, 3)\n",
        "mie 3: (4, 5)\n",
        "jue 4: (6, 7)\n",
        "vie 5: (8, 9)\n",
        "sab 6: (0, 1, 2)\n",
        "dom 7: (3, 4, 5)\n",
        "lun 8: (10, 11)\n",
        "mar 9: (12, 13)\n",
        "mie 10: (14, 0)\n",
        "jue 11: (1, 2)\n",
        "vie 12: (3, 4)\n",
        "sab 13: (6, 7, 8)\n",
        "dom 14: (9, 10, 11)\n",
        "lun 15: (13, 14)\n",
        "mar 16: (7, 8)\n",
        "mie 17: (9, 10)\n",
        "jue 18: (11, 12)\n",
        "vie 19: (5, 6)\n",
        "sab 20: (12, 13, 14)\n",
        "dom 21: (0, 1, 2)\n",
        "lun 22: (0, 1)\n",
        "mar 23: (2, 3)\n",
        "mie 24: (4, 5)\n",
        "jue 25: (6, 7)\n",
        "vie 26: (8, 9)\n",
        "sab 27: (3, 4, 5)\n",
        "dom 28: (6, 7, 8)\n",
        "lun 29: (10, 11)\n",
        "mar 30: (12, 13)\n"
       ]
      }
     ],
     "prompt_number": 26
    },
    {
     "cell_type": "markdown",
     "metadata": {},
     "source": [
      "Veamos cu\u00e1ntos conflictos quedan despu\u00e9s de este cambio.\n",
      "\n",
      "Como vamos a estar repitiendo varias veces el procedimiento de generar conflictos, lo encapsulamos en una funci\u00f3n que nos quede m\u00e1s c\u00f3moda para invocarla:"
     ]
    },
    {
     "cell_type": "code",
     "collapsed": false,
     "input": [
      "def encontrar_conflictos(guardias):\n",
      "    conflictos = []\n",
      "\n",
      "    for i in range(28):\n",
      "        hoy, maniana, pasado = (fechas[i + s] for s in (0, 1, 2))\n",
      "        ghoy, gmaniana, gpasado = (set(guardias[dia]) for dia in (hoy, maniana, pasado))\n",
      "        if not ghoy.isdisjoint(gmaniana):\n",
      "            conflictos.append(((hoy, ghoy), (maniana, gmaniana)))\n",
      "        if not ghoy.isdisjoint(gpasado):\n",
      "            conflictos.append(((hoy, ghoy), (pasado, gpasado)))\n",
      "    \n",
      "    # analizamos aparte el caso borde de los \u00faltimos dos d\u00edas\n",
      "    el29, el30 = fechas[28], fechas[29]\n",
      "    gel29, gel30 = (set(guardias[dia]) for dia in (el29, el30))\n",
      "    if not gel29.isdisjoint(gel30):\n",
      "        conflictos.append(((el29, gel29),(el30, gel30)))\n",
      "            \n",
      "    return conflictos\n",
      "\n",
      "encontrar_conflictos(guardias)\n",
      "    "
     ],
     "language": "python",
     "metadata": {},
     "outputs": [
      {
       "metadata": {},
       "output_type": "pyout",
       "prompt_number": 27,
       "text": [
        "[(('jue 18', {11, 12}), ('sab 20', {12, 13, 14})),\n",
        " (('dom 21', {0, 1, 2}), ('lun 22', {0, 1})),\n",
        " (('dom 21', {0, 1, 2}), ('mar 23', {2, 3})),\n",
        " (('vie 26', {8, 9}), ('dom 28', {6, 7, 8}))]"
       ]
      }
     ],
     "prompt_number": 27
    },
    {
     "cell_type": "markdown",
     "metadata": {},
     "source": [
      "Tenemos 2 menos! El cambio que hicimos tambi\u00e9n elimin\u00f3 el conflicto que hab\u00eda entre el viernes 19 y el s\u00e1bado 20.\n",
      "\n",
      "Los conflicto que quedan parecen poderse resolver f\u00e1cilmente con algunas permutaciones m\u00e1s.\n",
      "Definamos otra funci\u00f3n para permutar guardias de dos d\u00edas, ya que tambi\u00e9n es algo que vamos a estar repitiendo:\n"
     ]
    },
    {
     "cell_type": "code",
     "collapsed": false,
     "input": [
      "def permutar_guardias(guardias, dia1, dia2):\n",
      "    temp = guardias[dia1]\n",
      "    guardias[dia1] = guardias[dia2]\n",
      "    guardias[dia2] = temp\n",
      "\n",
      "jue18, mie17 = fechas[17], fechas[16]\n",
      "permutar_guardias(guardias, jue18, mie17)\n",
      "\n",
      "encontrar_conflictos(guardias)"
     ],
     "language": "python",
     "metadata": {},
     "outputs": [
      {
       "metadata": {},
       "output_type": "pyout",
       "prompt_number": 28,
       "text": [
        "[(('dom 21', {0, 1, 2}), ('lun 22', {0, 1})),\n",
        " (('dom 21', {0, 1, 2}), ('mar 23', {2, 3})),\n",
        " (('vie 26', {8, 9}), ('dom 28', {6, 7, 8}))]"
       ]
      }
     ],
     "prompt_number": 28
    },
    {
     "cell_type": "code",
     "collapsed": false,
     "input": [
      "lun22, mie24 = fechas[21], fechas[23]\n",
      "permutar_guardias(guardias, lun22, mie24)\n",
      "\n",
      "mar23, jue25 = fechas[22], fechas[24]\n",
      "permutar_guardias(guardias, mar23, jue25)\n",
      "\n",
      "encontrar_conflictos(guardias)"
     ],
     "language": "python",
     "metadata": {},
     "outputs": [
      {
       "metadata": {},
       "output_type": "pyout",
       "prompt_number": 29,
       "text": [
        "[(('jue 25', {2, 3}), ('sab 27', {3, 4, 5})),\n",
        " (('vie 26', {8, 9}), ('dom 28', {6, 7, 8}))]"
       ]
      }
     ],
     "prompt_number": 29
    },
    {
     "cell_type": "markdown",
     "metadata": {},
     "source": [
      "Ahora creamos un conflicto nuevo (el del jueves 25) al resolver otros 2 (lunes 22 y martes 23 con el domingo 21).\n",
      "\n",
      "Tratemos de arreglarlo..."
     ]
    },
    {
     "cell_type": "code",
     "collapsed": false,
     "input": [
      "permutar_guardias(guardias, mie24, jue25)\n",
      "\n",
      "encontrar_conflictos(guardias)"
     ],
     "language": "python",
     "metadata": {},
     "outputs": [
      {
       "metadata": {},
       "output_type": "pyout",
       "prompt_number": 30,
       "text": [
        "[(('vie 26', {8, 9}), ('dom 28', {6, 7, 8}))]"
       ]
      }
     ],
     "prompt_number": 30
    },
    {
     "cell_type": "markdown",
     "metadata": {},
     "source": [
      "Uno m\u00e1s y estamos! \n",
      "\n",
      "Ya con tantos cambios no viene mal volver a mirar en qu\u00e9 estado est\u00e1n las guardias:"
     ]
    },
    {
     "cell_type": "code",
     "collapsed": false,
     "input": [
      "for dia in fechas:\n",
      "    print dia + \": \" + str(guardias[dia])"
     ],
     "language": "python",
     "metadata": {},
     "outputs": [
      {
       "output_type": "stream",
       "stream": "stdout",
       "text": [
        "lun 1: (0, 1)\n",
        "mar 2: (2, 3)\n",
        "mie 3: (4, 5)\n",
        "jue 4: (6, 7)\n",
        "vie 5: (8, 9)\n",
        "sab 6: (0, 1, 2)\n",
        "dom 7: (3, 4, 5)\n",
        "lun 8: (10, 11)\n",
        "mar 9: (12, 13)\n",
        "mie 10: (14, 0)\n",
        "jue 11: (1, 2)\n",
        "vie 12: (3, 4)\n",
        "sab 13: (6, 7, 8)\n",
        "dom 14: (9, 10, 11)\n",
        "lun 15: (13, 14)\n",
        "mar 16: (7, 8)\n",
        "mie 17: (11, 12)\n",
        "jue 18: (9, 10)\n",
        "vie 19: (5, 6)\n",
        "sab 20: (12, 13, 14)\n",
        "dom 21: (0, 1, 2)\n",
        "lun 22: (4, 5)\n",
        "mar 23: (6, 7)\n",
        "mie 24: (2, 3)\n",
        "jue 25: (0, 1)\n",
        "vie 26: (8, 9)\n",
        "sab 27: (3, 4, 5)\n",
        "dom 28: (6, 7, 8)\n",
        "lun 29: (10, 11)\n",
        "mar 30: (12, 13)\n"
       ]
      }
     ],
     "prompt_number": 32
    },
    {
     "cell_type": "code",
     "collapsed": false,
     "input": [
      "vie26 = fechas[25]\n",
      "\n",
      "permutar_guardias(guardias, jue25, vie26)\n",
      "\n",
      "encontrar_conflictos(guardias)\n"
     ],
     "language": "python",
     "metadata": {},
     "outputs": [
      {
       "metadata": {},
       "output_type": "pyout",
       "prompt_number": 35,
       "text": [
        "[]"
       ]
      }
     ],
     "prompt_number": 35
    },
    {
     "cell_type": "markdown",
     "metadata": {},
     "source": [
      "CERO conflictos! todo un \u00e9xito, no? ;)"
     ]
    },
    {
     "cell_type": "heading",
     "level": 2,
     "metadata": {},
     "source": [
      "\u00bfC\u00f3mo seguimos?"
     ]
    },
    {
     "cell_type": "markdown",
     "metadata": {},
     "source": [
      "La idea ahora ser\u00eda formalizar la heur\u00edstica que estuvimos trabajando \"a manito\" reci\u00e9n en un algoritmo que podamos correr sin estar interviniendo tanto nosotros.\n",
      "\n",
      "Se puede hacer un proceso iterativo como el que hicimos reci\u00e9n, que vaya calculando en cada paso la cantidad de conflictos y busque permutaciones que la reduzcan.\n",
      "\n",
      "Al ser un problema chico, tambi\u00e9n es posible hacer un an\u00e1lisis exhaustivo: un algoritmo que sobre cada semana haga todas las permutaciones posibles de guardias sobre sus d\u00edas de semana (5! = 120 nom\u00e1s, en N semanas queda 120^N, que sigue siendo chico).\n",
      "\n",
      "Tal algoritmo podr\u00eda no s\u00f3lo encontrar r\u00e1pidamente una asignaci\u00f3n sin conflictos, sino que adem\u00e1s le podr\u00edamos pedir que elija la mejor con alg\u00fan criterio que nosotros decidamos (por ej.: maximizar la m\u00ednima cantidad de d\u00edas sin guardia sobre todos los remiseros).\n",
      "\n",
      "Para que la distribuci\u00f3n sea totalmente homog\u00e9nea, habr\u00eda que agregar la cuentita de divisibilidad necesaria para ver el n\u00famero de d\u00edas que hay que planificar de forma que todos laburen lo mismo a lo largo de la planificaci\u00f3n (al menos para los valores entre 15 y 25).\n",
      "\n",
      "De todas formas, para no complicarla tanto se pueden planificar N semanas en el caso de N remiseros, y listo. (aunque habr\u00eda que ver si 120^25 sigue siendo \"chico\" computacionalmente).\n",
      "\n",
      "Hay que pensar tambi\u00e9n c\u00f3mo agregar las suplencias y c\u00f3mo agregarle valores hist\u00f3ricos para los casos en que hay que replanificar a la mitad de un ciclo (por entrada o salida de remiseros a la flota). \n",
      "\n"
     ]
    }
   ],
   "metadata": {}
  }
 ]
}